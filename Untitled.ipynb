{
 "cells": [
  {
   "cell_type": "code",
   "execution_count": 1,
   "id": "5071dc06-49f7-400b-a7ba-356ca6099ce3",
   "metadata": {},
   "outputs": [
    {
     "name": "stdout",
     "output_type": "stream",
     "text": [
      "CSV file 'doubled_numbers.csv' created successfully!\n"
     ]
    }
   ],
   "source": [
    "import csv\n",
    "\n",
    "# Sample data\n",
    "numbers = [1, 2, 3, 4, 5]\n",
    "\n",
    "# Process data: double each number\n",
    "doubled = [n * 2 for n in numbers]\n",
    "\n",
    "# Save to CSV\n",
    "with open(\"doubled_numbers.csv\", mode=\"w\", newline=\"\") as file:\n",
    "    writer = csv.writer(file)\n",
    "    writer.writerow([\"Original\", \"Doubled\"])\n",
    "    for original, new in zip(numbers, doubled):\n",
    "        writer.writerow([original, new])\n",
    "\n",
    "print(\"CSV file 'doubled_numbers.csv' created successfully!\")\n"
   ]
  },
  {
   "cell_type": "code",
   "execution_count": null,
   "id": "ddc7fab5-2540-4b25-9e91-cf780c5e6c1a",
   "metadata": {},
   "outputs": [],
   "source": []
  }
 ],
 "metadata": {
  "kernelspec": {
   "display_name": "Python 3 (ipykernel)",
   "language": "python",
   "name": "python3"
  },
  "language_info": {
   "codemirror_mode": {
    "name": "ipython",
    "version": 3
   },
   "file_extension": ".py",
   "mimetype": "text/x-python",
   "name": "python",
   "nbconvert_exporter": "python",
   "pygments_lexer": "ipython3",
   "version": "3.13.5"
  }
 },
 "nbformat": 4,
 "nbformat_minor": 5
}
