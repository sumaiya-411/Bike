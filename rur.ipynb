{
 "cells": [
  {
   "cell_type": "code",
   "execution_count": 1,
   "id": "39cf291a-8b05-47e9-8543-5423afbc41bc",
   "metadata": {},
   "outputs": [
    {
     "name": "stdout",
     "output_type": "stream",
     "text": [
      "Original Data:\n",
      "      Name   Age         City\n",
      "0   Alice   25.0     New York\n",
      "1      Bob  30.0  Los Angeles\n",
      "2  Charlie   NaN     New York\n",
      "3     None  22.0      Chicago\n",
      "4      Eve  28.0             \n",
      "5      Bob  30.0  Los Angeles\n",
      "\n",
      "Cleaned Data:\n",
      "    Name   Age         City\n",
      "0  Alice  25.0     New York\n",
      "1    Bob  30.0  Los Angeles\n"
     ]
    }
   ],
   "source": [
    "import pandas as pd\n",
    "\n",
    "# Sample data (you can replace this with your own CSV or DataFrame)\n",
    "data = {\n",
    "    'Name': ['Alice ', ' Bob', 'Charlie', None, 'Eve', 'Bob'],\n",
    "    'Age': [25, 30, None, 22, 28, 30],\n",
    "    'City': ['New York', 'Los Angeles', 'New York', 'Chicago', '', 'Los Angeles']\n",
    "}\n",
    "\n",
    "# Create DataFrame\n",
    "df = pd.DataFrame(data)\n",
    "\n",
    "print(\"Original Data:\")\n",
    "print(df)\n",
    "\n",
    "# Step 1: Remove leading/trailing spaces from string columns\n",
    "df = df.apply(lambda x: x.str.strip() if x.dtype == \"object\" else x)\n",
    "\n",
    "# Step 2: Drop rows with missing values\n",
    "df = df.dropna()\n",
    "\n",
    "# Step 3: Remove duplicate rows\n",
    "df = df.drop_duplicates()\n",
    "\n",
    "# Step 4: Replace empty strings with NaN and drop those rows (optional)\n",
    "df = df.replace('', pd.NA).dropna()\n",
    "\n",
    "print(\"\\nCleaned Data:\")\n",
    "print(df)\n"
   ]
  },
  {
   "cell_type": "code",
   "execution_count": null,
   "id": "c57f3b14-0ab6-46d5-aef6-c102d56c71a6",
   "metadata": {},
   "outputs": [],
   "source": []
  }
 ],
 "metadata": {
  "kernelspec": {
   "display_name": "Python 3 (ipykernel)",
   "language": "python",
   "name": "python3"
  },
  "language_info": {
   "codemirror_mode": {
    "name": "ipython",
    "version": 3
   },
   "file_extension": ".py",
   "mimetype": "text/x-python",
   "name": "python",
   "nbconvert_exporter": "python",
   "pygments_lexer": "ipython3",
   "version": "3.13.5"
  }
 },
 "nbformat": 4,
 "nbformat_minor": 5
}
